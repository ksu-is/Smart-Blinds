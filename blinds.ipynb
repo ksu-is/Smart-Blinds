{
 "cells": [
  {
   "cell_type": "markdown",
   "id": "801215d6",
   "metadata": {},
   "source": [
    "Imports"
   ]
  },
  {
   "cell_type": "code",
   "execution_count": 1,
   "id": "1a4fd3e5",
   "metadata": {},
   "outputs": [],
   "source": [
    "import os\n",
    "#import RPi.GPIO as GPIO\n",
    "import time\n",
    "import sys\n",
    "from enum import Enum"
   ]
  },
  {
   "cell_type": "markdown",
   "id": "3d037a00",
   "metadata": {},
   "source": [
    "Data"
   ]
  },
  {
   "cell_type": "code",
   "execution_count": null,
   "id": "e8e933ec",
   "metadata": {},
   "outputs": [],
   "source": [
    "FILENAME=\"/home/pi/Projects/Smart-Blinds/status\"\n",
    "\n",
    "TIMEUP = 38\n",
    "TIMEDOWN = 22\n",
    "\n",
    "UP_SLOW = 7.5\n",
    "UP_MED = 8\n",
    "UP_FAST = 10\n",
    "\n",
    "DOWN_SLOW = 6.5\n",
    "DOWN_MED = 6\n",
    "DOWN_FAST = 5\n",
    "\n",
    "CLOSED = 0\n",
    "OPENED = 1"
   ]
  },
  {
   "cell_type": "markdown",
   "id": "bd1bd8d1",
   "metadata": {},
   "source": [
    "Explaination:"
   ]
  },
  {
   "cell_type": "code",
   "execution_count": null,
   "id": "8922c2fb",
   "metadata": {
    "vscode": {
     "languageId": "markdown"
    }
   },
   "outputs": [],
   "source": [
    "The code above defines the structure and imports for a project, likely related to controlling smart blinds. Here's a breakdown:\n",
    "\n",
    "1. **Imports (Cell Index 1):**\n",
    "    - Modules like `os`, `time`, `sys`, and `enum` are imported. These provide functionality for file handling, time delays, system operations, and enumerations, respectively.\n",
    "    - `RPi.GPIO` is commented out, suggesting this code might be intended for a Raspberry Pi, but GPIO functionality is currently disabled.\n",
    "\n",
    "2. **Constants (Cell Index 3):**\n",
    "    - `FILENAME` specifies a file path, likely used to store or retrieve the status of the blinds.\n",
    "    - `TIMEUP` and `TIMEDOWN` define time durations, possibly for moving the blinds up or down.\n",
    "    - `UP_SLOW`, `UP_MED`, `UP_FAST`, `DOWN_SLOW`, `DOWN_MED`, and `DOWN_FAST` define speed settings for moving the blinds.\n",
    "    - `CLOSED` and `OPENED` are likely states representing whether the blinds are fully closed or open.\n",
    "\n",
    "3. **Prime Number Function (Cell Index 6):**\n",
    "    - A function `greatest_prime_less_than(n)` is defined to find the largest prime number less than a given number `n`.\n",
    "\n",
    "The `Enum` type is imported from the `enum` module, but it hasn't been used yet. It is likely intended for defining enumerations, such as states or modes for the blinds."
   ]
  },
  {
   "cell_type": "code",
   "execution_count": null,
   "id": "646fcd7b",
   "metadata": {},
   "outputs": [],
   "source": []
  },
  {
   "cell_type": "code",
   "execution_count": 2,
   "id": "d49eddf9",
   "metadata": {},
   "outputs": [],
   "source": [
    "def greatest_prime_less_than(n):\n",
    "    if n <= 2:\n",
    "        return None  # No prime number less than 2\n",
    "    for num in range(n - 1, 1, -1):\n",
    "        if all(num % i != 0 for i in range(2, int(num**0.5) + 1)):\n",
    "            return num\n",
    "    return None  # In case no prime is found (shouldn't happen for n > 2)"
   ]
  },
  {
   "cell_type": "markdown",
   "id": "81df4964",
   "metadata": {},
   "source": []
  },
  {
   "cell_type": "code",
   "execution_count": null,
   "id": "1b45a3cd",
   "metadata": {},
   "outputs": [],
   "source": [
    "class Blinds(object):"
   ]
  },
  {
   "cell_type": "code",
   "execution_count": null,
   "id": "a8d6ab79",
   "metadata": {},
   "outputs": [],
   "source": [
    "    def read_status(self):\n",
    "        saved_file=open(FILENAME, \"r\")\n",
    "        self.status = float(saved_file.readline().strip())\n",
    "\n",
    "    def write_status(self):\n",
    "        saved_file=open(FILENAME, \"w\")\n",
    "        saved_file.write(str(self.status))\n",
    "        saved_file.close()"
   ]
  },
  {
   "cell_type": "code",
   "execution_count": null,
   "id": "9bfb3500",
   "metadata": {},
   "outputs": [],
   "source": [
    "    def move(self,target):\n",
    "        if(target > self.status):\n",
    "            # Move Up by (target-self.status) * TIMEUP\n",
    "            self.p.ChangeDutyCycle(UP_FAST)\n",
    "            time.sleep(TIMEUP * (target-self.status))\n",
    "        elif(target < self.status):\n",
    "            # Move Down by (self.status-target) * TIMEDOWN\n",
    "            self.p.ChangeDutyCycle(DOWN_FAST)\n",
    "            time.sleep(TIMEDOWN * (self.status-target))\n",
    "        self.p.stop()\n",
    "        self.status = target\n",
    "        self.write_status()"
   ]
  },
  {
   "cell_type": "code",
   "execution_count": null,
   "id": "fb699e2d",
   "metadata": {},
   "outputs": [],
   "source": [
    "    def toggle(self):\n",
    "        if (self.status == OPENED):\n",
    "            self.move(0)\n",
    "        elif (self.status == CLOSED):\n",
    "            self.move(1)\n",
    "        return self.status"
   ]
  },
  {
   "cell_type": "code",
   "execution_count": null,
   "id": "40651ad1",
   "metadata": {},
   "outputs": [],
   "source": [
    "    def cleanup(self):\n",
    "        GPIO.cleanup()"
   ]
  },
  {
   "cell_type": "code",
   "execution_count": null,
   "id": "3e69435d",
   "metadata": {},
   "outputs": [],
   "source": [
    "def __init__(self):\n",
    "        super(Blinds, self).__init__()\n",
    "        self.read_status()\n",
    "        GPIO.setmode(GPIO.BCM)\n",
    "        GPIO.setup(18, GPIO.OUT)\n",
    "        self.p = GPIO.PWM(18,50)\n",
    "        self.p.start(7)"
   ]
  },
  {
   "cell_type": "markdown",
   "id": "b74b244d",
   "metadata": {},
   "source": []
  },
  {
   "cell_type": "code",
   "execution_count": null,
   "id": "58389d95",
   "metadata": {},
   "outputs": [],
   "source": [
    "if __name__ == '__main__':\n",
    "    b = Blinds()\n",
    "    b.move(float(sys.argv[1]))\n",
    "    b.cleanup()\n"
   ]
  }
 ],
 "metadata": {
  "kernelspec": {
   "display_name": "Python 3",
   "language": "python",
   "name": "python3"
  },
  "language_info": {
   "codemirror_mode": {
    "name": "ipython",
    "version": 3
   },
   "file_extension": ".py",
   "mimetype": "text/x-python",
   "name": "python",
   "nbconvert_exporter": "python",
   "pygments_lexer": "ipython3",
   "version": "3.13.2"
  }
 },
 "nbformat": 4,
 "nbformat_minor": 5
}
