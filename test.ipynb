{
 "cells": [
  {
   "cell_type": "code",
   "execution_count": null,
   "id": "7d27e0dd",
   "metadata": {},
   "outputs": [],
   "source": [
    "#!/usr/bin/python3\n",
    "\n",
    "\"\"\" Used to test servo rotation and for manual adjusments \"\"\"\n",
    "\n",
    "import RPi.GPIO as GPIO\n",
    "import time\n",
    "\n",
    "GPIO.setmode(GPIO.BCM)\n",
    "GPIO.setup(18, GPIO.OUT)\n",
    "\n",
    "p = GPIO.PWM(18,50)\n",
    "\n",
    "p.start(7)\n",
    "\n",
    "i = 7\n",
    "t = 0\n",
    "while float(i) != -1:\n",
    "  # time.sleep(5)\n",
    "  p.ChangeDutyCycle(float(i))\n",
    "  time.sleep(int(t))\n",
    "  p.ChangeDutyCycle(7)\n",
    "  i = input(\"Duty Cycle: \")\n",
    "  t = input(\"Time: \")\n",
    "\n",
    "\n",
    "p.stop()\n",
    "GPIO.cleanup()"
   ]
  }
 ],
 "metadata": {
  "language_info": {
   "name": "python"
  }
 },
 "nbformat": 4,
 "nbformat_minor": 5
}
